{
 "cells": [
  {
   "cell_type": "code",
   "execution_count": 16,
   "metadata": {},
   "outputs": [],
   "source": [
    "import yaml, os\n",
    "from llama_index import Prompt\n",
    "from llama_index import ServiceContext\n",
    "from llama_index.llm_predictor import LLMPredictor\n",
    "from llama_index import set_global_service_context\n",
    "from llama_index.llms import AzureOpenAI, ChatMessage\n",
    "from llama_index.embeddings import HuggingFaceEmbedding"
   ]
  },
  {
   "cell_type": "code",
   "execution_count": 2,
   "metadata": {},
   "outputs": [],
   "source": [
    "with open('/Users/1zuu/Desktop/LLM RESEARCH/LlamaIndex Cooking/cadentials.yaml') as f:\n",
    "    credentials = yaml.load(f, Loader=yaml.FullLoader)\n",
    "\n",
    "os.environ['AD_OPENAI_API_KEY'] = credentials['AD_OPENAI_API_KEY']\n",
    "os.environ['HUGGINGFACEHUB_API_TOKEN'] = credentials['HUGGINGFACEHUB_API_TOKEN']"
   ]
  },
  {
   "cell_type": "code",
   "execution_count": 3,
   "metadata": {},
   "outputs": [
    {
     "name": "stdout",
     "output_type": "stream",
     "text": [
      "--2023-12-13 15:30:39--  https://github.com/run-llama/llama_docs_bot/blob/main/docs/getting_started/starter_example.md\n",
      "Resolving github.com (github.com)... 20.205.243.166\n",
      "Connecting to github.com (github.com)|20.205.243.166|:443... connected.\n",
      "HTTP request sent, awaiting response... 200 OK\n",
      "Length: 20839 (20K) [text/plain]\n",
      "Saving to: ‘data/starter_example.md’\n",
      "\n",
      "data/starter_exampl 100%[===================>]  20.35K  --.-KB/s    in 0.05s   \n",
      "\n",
      "2023-12-13 15:30:40 (382 KB/s) - ‘data/starter_example.md’ saved [20839/20839]\n",
      "\n"
     ]
    }
   ],
   "source": [
    "!mkdir -p 'data/'\n",
    "!wget 'https://github.com/run-llama/llama_docs_bot/blob/main/docs/getting_started/starter_example.md' -O 'data/starter_example.md'"
   ]
  },
  {
   "cell_type": "code",
   "execution_count": 10,
   "metadata": {},
   "outputs": [],
   "source": [
    "embedding_llm = HuggingFaceEmbedding(model_name=\"BAAI/bge-small-en-v1.5\")\n",
    "llm=AzureOpenAI(\n",
    "                deployment_name=credentials['AD_DEPLOYMENT_ID'],\n",
    "                model=credentials['AD_ENGINE'],\n",
    "                api_key=credentials['AD_OPENAI_API_KEY'],\n",
    "                api_version=credentials['AD_OPENAI_API_VERSION'],\n",
    "                azure_endpoint=credentials['AD_OPENAI_API_BASE'],\n",
    "                max_tokens=5000\n",
    "                )\n",
    "chat_llm = LLMPredictor(llm)\n",
    "\n",
    "service_context = ServiceContext.from_defaults(\n",
    "                                                embed_model=embedding_llm,\n",
    "                                                llm_predictor=chat_llm\n",
    "                                                )\n",
    "set_global_service_context(service_context)"
   ]
  },
  {
   "cell_type": "markdown",
   "metadata": {},
   "source": [
    "# Define 2 Templates"
   ]
  },
  {
   "cell_type": "code",
   "execution_count": 5,
   "metadata": {},
   "outputs": [],
   "source": [
    "text_qa_template = Prompt(\n",
    "                        \"Context information is below.\\n\"\n",
    "                        \"---------------------\\n\"\n",
    "                        \"{context_str}\\n\"\n",
    "                        \"---------------------\\n\"\n",
    "                        \"Given the context information and not prior knowledge, \"\n",
    "                        \"answer the question: {query_str}\\n\"\n",
    "                        )\n",
    "\n",
    "refine_template = Prompt(\n",
    "                        \"We have the opportunity to refine the original answer \"\n",
    "                        \"(only if needed) with some more context below.\\n\"\n",
    "                        \"------------\\n\"\n",
    "                        \"{context_msg}\\n\"\n",
    "                        \"------------\\n\"\n",
    "                        \"Given the new context, refine the original answer to better \"\n",
    "                        \"answer the question: {query_str}. \"\n",
    "                        \"If the context isn't useful, output the original answer again.\\n\"\n",
    "                        \"Original Answer: {existing_answer}\"\n",
    "                        )"
   ]
  },
  {
   "cell_type": "code",
   "execution_count": 6,
   "metadata": {},
   "outputs": [],
   "source": [
    "with open(\"data/starter_example.md\", \"r\") as f:\n",
    "    context = f.read()"
   ]
  },
  {
   "cell_type": "markdown",
   "metadata": {},
   "source": [
    "# Text QA Template Testing"
   ]
  },
  {
   "cell_type": "code",
   "execution_count": 7,
   "metadata": {},
   "outputs": [
    {
     "name": "stdout",
     "output_type": "stream",
     "text": [
      "You can install llama-index by following the installation steps provided in the installation.md file.\n"
     ]
    }
   ],
   "source": [
    "question = \"How can I install llama-index?\"\n",
    "prompt = text_qa_template.format(context_str=context, query_str=question)\n",
    "response = llm.complete(prompt)\n",
    "print(response.text)"
   ]
  },
  {
   "cell_type": "code",
   "execution_count": 11,
   "metadata": {},
   "outputs": [
    {
     "name": "stdout",
     "output_type": "stream",
     "text": [
      "To create an index using LlamaIndex, you need to create a new `.py` file and import `VectorStoreIndex` and `SimpleDirectoryReader` from `llama_index`. Then, you can load the data using `SimpleDirectoryReader('data').load_data()` and build the index using `VectorStoreIndex.from_documents(documents)`.\n"
     ]
    }
   ],
   "source": [
    "question = \"How do I create an index?\"\n",
    "prompt = text_qa_template.format(context_str=context, query_str=question)\n",
    "response = llm.complete(prompt)\n",
    "print(response.text)"
   ]
  },
  {
   "cell_type": "code",
   "execution_count": 13,
   "metadata": {},
   "outputs": [
    {
     "name": "stdout",
     "output_type": "stream",
     "text": [
      "To create an index, you can use the following code:\n",
      "\n",
      "```python\n",
      "from llama_index import VectorStoreIndex, SimpleDirectoryReader\n",
      "\n",
      "documents = SimpleDirectoryReader('data').load_data()\n",
      "index = VectorStoreIndex.from_documents(documents)\n",
      "```\n",
      "\n",
      "This builds an index over the documents in the `data` folder (which in this case just consists of the essay text)."
     ]
    }
   ],
   "source": [
    "question = \"How do I create an index? Write your answer using only code.\"\n",
    "prompt = text_qa_template.format(context_str=context, query_str=question)\n",
    "response_gen = llm.stream_complete(prompt)\n",
    "for response in response_gen:\n",
    "    print(response.delta, end=\"\")"
   ]
  },
  {
   "cell_type": "markdown",
   "metadata": {},
   "source": [
    "# Refine Template Testing"
   ]
  },
  {
   "cell_type": "code",
   "execution_count": 15,
   "metadata": {},
   "outputs": [
    {
     "name": "stdout",
     "output_type": "stream",
     "text": [
      "To create an index using LlamaIndex, follow these steps:\n",
      "\n",
      "```python\n",
      "from llama_index import VectorStoreIndex, SimpleDirectoryReader\n",
      "\n",
      "# Load documents from the 'data' folder\n",
      "documents = SimpleDirectoryReader('data').load_data()\n",
      "\n",
      "# Build the index\n",
      "index = VectorStoreIndex.from_documents(documents)\n",
      "\n",
      "# Persist the index to disk\n",
      "index.storage_context.persist()\n",
      "\n",
      "# Reload the index from disk\n",
      "from llama_index import StorageContext, load_index_from_storage\n",
      "\n",
      "storage_context = StorageContext.from_defaults(persist_dir=\"./storage\")\n",
      "index = load_index_from_storage(storage_context)\n",
      "```\n",
      "\n",
      "Note that these steps assume that you have already installed LlamaIndex and have the necessary dependencies.\n"
     ]
    }
   ],
   "source": [
    "question = \"How do I create an index? Write your answer using only code.\"\n",
    "existing_answer = \"\"\"To create an index using LlamaIndex, you need to follow these steps:\n",
    "\n",
    "1. Download the LlamaIndex repository by cloning it from GitHub.\n",
    "2. Navigate to the `examples/paul_graham_essay` folder in the cloned repository.\n",
    "3. Create a new Python file and import the necessary modules: `VectorStoreIndex` and `SimpleDirectoryReader`.\n",
    "4. Load the documents from the `data` folder using `SimpleDirectoryReader('data').load_data()`.\n",
    "5. Build the index using `VectorStoreIndex.from_documents(documents)`.\n",
    "6. To persist the index to disk, use `index.storage_context.persist()`.\n",
    "7. To reload the index from disk, use the `StorageContext` and `load_index_from_storage` functions.\n",
    "\n",
    "Note: This answer assumes that you have already installed LlamaIndex and have the necessary dependencies.\"\"\"\n",
    "prompt = refine_template.format(context_msg=context, query_str=question, existing_answer=existing_answer)\n",
    "response = llm.complete(prompt)\n",
    "print(response.text)"
   ]
  },
  {
   "cell_type": "markdown",
   "metadata": {},
   "source": [
    "### Now we know how Completion Module works, let's see how Chat Module works"
   ]
  },
  {
   "cell_type": "code",
   "execution_count": 17,
   "metadata": {},
   "outputs": [
    {
     "name": "stdout",
     "output_type": "stream",
     "text": [
      "assistant: To create an index, you need to follow these steps:\n",
      "\n",
      "1. Choose the content you want to index: Decide which pages or documents you want to include in your index.\n",
      "\n",
      "2. Identify the keywords: Identify the keywords or phrases that best describe the content you want to index.\n",
      "\n",
      "3. Create a list of keywords: Create a list of keywords or phrases that you want to include in your index.\n",
      "\n",
      "4. Assign weights to the keywords: Assign weights to the keywords based on their importance.\n",
      "\n",
      "5. Create the index: Use a software tool or a search engine to create the index.\n",
      "\n",
      "6. Test the index: Test the index to make sure it returns accurate results.\n",
      "\n",
      "7. Update the index: Update the index regularly to ensure that it remains accurate and up-to-date.\n",
      "\n",
      "Keep in mind that the process of creating an index may vary depending on the software tool or search engine you use.\n"
     ]
    }
   ],
   "source": [
    "chat_history = [\n",
    "    ChatMessage(role=\"system\", content=\"You are a helpful QA chatbot that can answer questions about llama-index.\"),\n",
    "    ChatMessage(role=\"user\", content=\"How do I create an index?\"),\n",
    "]\n",
    "\n",
    "response = llm.chat(chat_history)\n",
    "print(response.message)"
   ]
  },
  {
   "cell_type": "code",
   "execution_count": null,
   "metadata": {},
   "outputs": [],
   "source": []
  }
 ],
 "metadata": {
  "kernelspec": {
   "display_name": "llamaindex",
   "language": "python",
   "name": "python3"
  },
  "language_info": {
   "codemirror_mode": {
    "name": "ipython",
    "version": 3
   },
   "file_extension": ".py",
   "mimetype": "text/x-python",
   "name": "python",
   "nbconvert_exporter": "python",
   "pygments_lexer": "ipython3",
   "version": "3.9.18"
  }
 },
 "nbformat": 4,
 "nbformat_minor": 2
}
