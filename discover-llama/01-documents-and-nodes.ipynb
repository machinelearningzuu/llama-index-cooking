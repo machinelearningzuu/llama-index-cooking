{
 "cells": [
  {
   "cell_type": "code",
   "execution_count": 9,
   "metadata": {},
   "outputs": [],
   "source": [
    "from llama_index.schema import MetadataMode\n",
    "from llama_index import SimpleDirectoryReader\n",
    "from helpers.markdown_docs_reader import MarkdownDocsReader"
   ]
  },
  {
   "cell_type": "markdown",
   "metadata": {},
   "source": [
    "# Loading only MD files"
   ]
  },
  {
   "cell_type": "code",
   "execution_count": 6,
   "metadata": {},
   "outputs": [],
   "source": [
    "def load_markdown_docs(filepath):\n",
    "    \"\"\"Load markdown docs from a directory, excluding all other file types.\"\"\"\n",
    "    loader = SimpleDirectoryReader(\n",
    "                                input_dir=filepath, \n",
    "                                exclude=[\"*.rst\", \"*.ipynb\", \"*.py\", \"*.bat\", \"*.txt\", \"*.png\", \"*.jpg\", \"*.jpeg\", \"*.csv\", \"*.html\", \"*.js\", \"*.css\", \"*.pdf\", \"*.json\"],\n",
    "                                file_extractor={\".md\": MarkdownDocsReader()},\n",
    "                                recursive=True\n",
    "                                )\n",
    "\n",
    "    return loader.load_data()"
   ]
  },
  {
   "cell_type": "code",
   "execution_count": 14,
   "metadata": {},
   "outputs": [],
   "source": [
    "getting_started_docs = load_markdown_docs(\"data/docs/getting_started\")\n",
    "community_docs = load_markdown_docs(\"data/docs/community\")\n",
    "data_docs = load_markdown_docs(\"data/docs/core_modules/data_modules\")\n",
    "agent_docs = load_markdown_docs(\"data/docs/core_modules/agent_modules\")\n",
    "model_docs = load_markdown_docs(\"data/docs/core_modules/model_modules\")\n",
    "query_docs = load_markdown_docs(\"data/docs/core_modules/query_modules\")\n",
    "supporting_docs = load_markdown_docs(\"data/docs/core_modules/supporting_modules\")\n",
    "tutorials_docs = load_markdown_docs(\"data/docs/end_to_end_tutorials\")\n",
    "contributing_docs = load_markdown_docs(\"data/docs/development\")"
   ]
  },
  {
   "cell_type": "markdown",
   "metadata": {},
   "source": [
    "# Meta Data"
   ]
  },
  {
   "cell_type": "code",
   "execution_count": 15,
   "metadata": {},
   "outputs": [
    {
     "name": "stdout",
     "output_type": "stream",
     "text": [
      "File Name: data/docs/core_modules/agent_modules/agents/root.md\n",
      "Content Type: text\n",
      "Header Path: Data Agents/Concept/Tool Abstractions\n",
      "Links: \n",
      "file_path: data/docs/core_modules/agent_modules/agents/root.md\n",
      "file_name: root.md\n",
      "file_type: None\n",
      "file_size: 2340\n",
      "creation_date: 2023-12-17\n",
      "last_modified_date: 2023-12-17\n",
      "last_accessed_date: 2023-12-17\n",
      "\n",
      "You can learn more about our Tool abstractions in our Tools section.\n"
     ]
    }
   ],
   "source": [
    "print(agent_docs[5].get_content(metadata_mode=MetadataMode.ALL))"
   ]
  },
  {
   "cell_type": "markdown",
   "metadata": {},
   "source": [
    "### 01. access meta-data"
   ]
  },
  {
   "cell_type": "code",
   "execution_count": 16,
   "metadata": {},
   "outputs": [
    {
     "name": "stdout",
     "output_type": "stream",
     "text": [
      "{'File Name': 'data/docs/core_modules/agent_modules/agents/modules.md', 'Content Type': 'text', 'Header Path': 'Module Guides', 'Links': '', 'file_path': 'data/docs/core_modules/agent_modules/agents/modules.md', 'file_name': 'modules.md', 'file_type': None, 'file_size': 619, 'creation_date': '2023-12-17', 'last_modified_date': '2023-12-17', 'last_accessed_date': '2023-12-17'}\n"
     ]
    }
   ],
   "source": [
    "print(agent_docs[0].metadata)"
   ]
  },
  {
   "cell_type": "markdown",
   "metadata": {},
   "source": [
    "### 02. even you can change meta-data"
   ]
  },
  {
   "cell_type": "code",
   "execution_count": 19,
   "metadata": {},
   "outputs": [],
   "source": [
    "text_template = \"Content Metadata:\\n{metadata_str}\\n\\nContent:\\n{content}\"\n",
    "\n",
    "metadata_template = \"{key}: {value},\"\n",
    "metadata_seperator= \" \"\n",
    "\n",
    "for idx, doc in enumerate(agent_docs):\n",
    "    doc.text_template = text_template\n",
    "    doc.metadata_template = metadata_template\n",
    "    doc.metadata_seperator = metadata_seperator\n",
    "    agent_docs[idx] = doc"
   ]
  },
  {
   "cell_type": "code",
   "execution_count": 21,
   "metadata": {},
   "outputs": [
    {
     "name": "stdout",
     "output_type": "stream",
     "text": [
      "Content Metadata:\n",
      "File Name: data/docs/core_modules/agent_modules/agents/modules.md, Content Type: text, Header Path: Module Guides, Links: , file_path: data/docs/core_modules/agent_modules/agents/modules.md, file_name: modules.md, file_type: None, file_size: 619, creation_date: 2023-12-17, last_modified_date: 2023-12-17, last_accessed_date: 2023-12-17,\n",
      "\n",
      "Content:\n",
      "These guide provide an overview of how to use our agent classes.\n",
      "\n",
      "For more detailed guides on how to use specific tools, check out our tools module guides.\n"
     ]
    }
   ],
   "source": [
    "print(agent_docs[0].get_content(metadata_mode=MetadataMode.ALL))"
   ]
  },
  {
   "cell_type": "markdown",
   "metadata": {},
   "source": [
    "### 03. advanced meta-data customization"
   ]
  },
  {
   "cell_type": "code",
   "execution_count": 22,
   "metadata": {},
   "outputs": [
    {
     "name": "stdout",
     "output_type": "stream",
     "text": [
      "Content Metadata:\n",
      "Content Type: text, Header Path: Module Guides, Links: , file_path: data/docs/core_modules/agent_modules/agents/modules.md, file_name: modules.md, file_type: None, file_size: 619, creation_date: 2023-12-17, last_modified_date: 2023-12-17, last_accessed_date: 2023-12-17,\n",
      "\n",
      "Content:\n",
      "These guide provide an overview of how to use our agent classes.\n",
      "\n",
      "For more detailed guides on how to use specific tools, check out our tools module guides.\n"
     ]
    }
   ],
   "source": [
    "agent_docs[0].excluded_llm_metadata_keys = [\"File Name\"]\n",
    "print(agent_docs[0].get_content(metadata_mode=MetadataMode.LLM))"
   ]
  },
  {
   "cell_type": "code",
   "execution_count": null,
   "metadata": {},
   "outputs": [],
   "source": []
  }
 ],
 "metadata": {
  "kernelspec": {
   "display_name": "llamaindex",
   "language": "python",
   "name": "python3"
  },
  "language_info": {
   "codemirror_mode": {
    "name": "ipython",
    "version": 3
   },
   "file_extension": ".py",
   "mimetype": "text/x-python",
   "name": "python",
   "nbconvert_exporter": "python",
   "pygments_lexer": "ipython3",
   "version": "3.9.18"
  }
 },
 "nbformat": 4,
 "nbformat_minor": 2
}
